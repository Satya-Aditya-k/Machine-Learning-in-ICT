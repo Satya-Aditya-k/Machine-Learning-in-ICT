{
 "cells": [
  {
   "cell_type": "markdown",
   "id": "9dc3f3de",
   "metadata": {},
   "source": [
    "## Exercise 1"
   ]
  },
  {
   "cell_type": "markdown",
   "id": "f821bd8e",
   "metadata": {},
   "source": [
    "*In this exercise, we work on the EMNIST dataset and work on the creation of a Balanced Dataset of Uppercase Letters*"
   ]
  },
  {
   "cell_type": "code",
   "execution_count": 1,
   "id": "a950b9fd",
   "metadata": {},
   "outputs": [],
   "source": [
    "import emnist\n",
    "import numpy as np\n",
    "import matplotlib.pyplot as plt\n",
    "import pickle\n"
   ]
  },
  {
   "cell_type": "code",
   "execution_count": 2,
   "id": "b8f4e899",
   "metadata": {},
   "outputs": [],
   "source": [
    "def filter_dataset(img, label, x, y):\n",
    "    \"\"\"\n",
    "    Returns the labels in the interval of [x, y] and corresponding images\n",
    "    Parameters:\n",
    "        img (ndarray): 3D array containing images\n",
    "        label (ndarray): 1D array containing labels\n",
    "        x (int): Smallest value of labels to keep\n",
    "        y (int): Highest value of labels to keep\n",
    "    Returns:\n",
    "        img_filtered (ndarray): 3D array containing images which has labels in [x, y]\n",
    "        label_filtered (ndarray): 1D array containing labels in [x, y]\n",
    "    \"\"\"\n",
    "    ind = np.where(np.logical_and(label >= x, label <= y))  # gives the positions of the labels in the interval [x, y]\n",
    "    img_filtered = img[ind]\n",
    "    label_filtered = label[ind] - 10  # readjusting the labels\n",
    "    return img_filtered, label_filtered"
   ]
  },
  {
   "cell_type": "code",
   "execution_count": 3,
   "id": "d9a96837",
   "metadata": {},
   "outputs": [],
   "source": [
    "def find_smallest_class_size(label):\n",
    "    \"\"\"\n",
    "    Given the labels of the dataset, returns the smallest size of a class in the dataset\n",
    "    Parameters:\n",
    "        label (ndarray): 1D array containing labels\n",
    "    Returns:\n",
    "        (int): size of the class which has the least samples\n",
    "    \"\"\"\n",
    "    counts, _ = np.histogram(label, bins=np.unique(label))\n",
    "    return counts.min(), np.unique(label)[counts.argmin()]"
   ]
  },
  {
   "cell_type": "code",
   "execution_count": 4,
   "id": "d928ffe0",
   "metadata": {},
   "outputs": [],
   "source": [
    "def resize_dataset(img, label, N):\n",
    "    \"\"\"\n",
    "    Returns the sum of two decimal numbers in binary digits.\n",
    "    Parameters:\n",
    "        img (ndarray): 3D array containing images\n",
    "        label (ndarray): 1D array containing labels\n",
    "        N (int): total number of samples to keep from a class\n",
    "    Returns:\n",
    "        img_train (ndarray): 3D array containing training images\n",
    "        lbl_train (ndarray): 3D array containing training labels\n",
    "        img_test (ndarray): 3D array containing test images\n",
    "        lbl_test (ndarray): 3D array containing test labels\n",
    "    \"\"\"\n",
    "    img_train = np.array([], dtype=np.uint8).reshape(0, 28, 28)\n",
    "    img_test = np.array([], dtype=np.uint8).reshape(0, 28, 28)\n",
    "    lbl_train = np.array([], dtype=np.uint8)\n",
    "    lbl_test = np.array([], dtype=np.uint8)\n",
    "\n",
    "    test_size = int(N / 6)\n",
    "    training_size = N - test_size\n",
    "\n",
    "    for l in np.unique(label):\n",
    "        img_train = np.vstack([img_train, img[np.where(label == l)][:training_size]])\n",
    "        img_test = np.vstack([img_test, img[np.where(label == l)][-test_size:]])\n",
    "        lbl_train = np.concatenate([lbl_train, np.tile(l, training_size)])\n",
    "        lbl_test = np.concatenate([lbl_test, np.tile(l, test_size)])\n",
    "\n",
    "    return img_train, lbl_train, img_test, lbl_test"
   ]
  },
  {
   "cell_type": "code",
   "execution_count": 5,
   "id": "e69bae75",
   "metadata": {},
   "outputs": [],
   "source": [
    "def shuffle_dataset(img, label):\n",
    "    \"\"\"\n",
    "    Returns the sum of two decimal numbers in binary digits.\n",
    "    Parameters:\n",
    "        img (ndarray): 3D array containing images\n",
    "        label (ndarray): 1D array containing labels\n",
    "    Returns:\n",
    "        (ndarray), (ndarray): Shuffled arrays of images and labels\n",
    "    \"\"\"\n",
    "    shuffler = np.arange(img.shape[0])\n",
    "    np.random.shuffle(shuffler)  # shuffles the array in-place, returns None\n",
    "    return img[shuffler], label[shuffler]\n"
   ]
  },
  {
   "cell_type": "code",
   "execution_count": 6,
   "id": "615d78a2",
   "metadata": {},
   "outputs": [
    {
     "name": "stdout",
     "output_type": "stream",
     "text": [
      "Byclass - training:697932, test:116323, total:814255\n",
      "Initially, 220304/814255 uppercase samples...\n",
      "Smallest number of samples 2850 from label 10\n",
      "Total number of samples after balancing: 74100\n",
      "Balanced training samples: 61750\n",
      "Balanced test samples: 12350\n"
     ]
    }
   ],
   "source": [
    "if __name__ == '__main__':\n",
    "    img_train, label_train = emnist.extract_training_samples('byclass')\n",
    "    img_test, label_test = emnist.extract_test_samples('byclass')\n",
    "    print(f'Byclass - training:{len(label_train)}, test:{len(label_test)}, total:{len(label_train)+len(label_test)}')\n",
    "\n",
    "    img_all = np.append(img_train, img_test, axis=0)\n",
    "    label_all = np.append(label_train, label_test)\n",
    "\n",
    "    img_uc, label_uc = filter_dataset(img_all, label_all, 10, 35)\n",
    "    print(f'Initially, {len(label_uc)}/{len(label_all)} uppercase samples...')\n",
    "\n",
    "    N, label_N = find_smallest_class_size(label_uc)\n",
    "    print(f'Smallest number of samples {N} from label {label_N}')\n",
    "\n",
    "    img_train, label_train, img_test, label_test = resize_dataset(img_uc, label_uc, N)\n",
    "    print(f'Total number of samples after balancing: {len(label_train)+len(label_test)}')\n",
    "    print(f'Balanced training samples: {len(label_train)}')\n",
    "    print(f'Balanced test samples: {len(label_test)}')\n",
    "\n",
    "    img_train, label_train = shuffle_dataset(img_train, label_train)\n",
    "    img_test, label_test = shuffle_dataset(img_test, label_test)\n",
    "\n",
    "    pickle.dump((img_train, label_train), open(\"train\", \"wb\"))\n",
    "    pickle.dump((img_test, label_test), open(\"test\", \"wb\"))"
   ]
  },
  {
   "cell_type": "code",
   "execution_count": null,
   "id": "fbbb2911",
   "metadata": {},
   "outputs": [],
   "source": []
  }
 ],
 "metadata": {
  "kernelspec": {
   "display_name": "Python 3 (ipykernel)",
   "language": "python",
   "name": "python3"
  },
  "language_info": {
   "codemirror_mode": {
    "name": "ipython",
    "version": 3
   },
   "file_extension": ".py",
   "mimetype": "text/x-python",
   "name": "python",
   "nbconvert_exporter": "python",
   "pygments_lexer": "ipython3",
   "version": "3.8.8"
  }
 },
 "nbformat": 4,
 "nbformat_minor": 5
}
